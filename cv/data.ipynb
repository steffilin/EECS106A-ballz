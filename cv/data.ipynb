{
 "cells": [
  {
   "cell_type": "code",
   "execution_count": 43,
   "metadata": {},
   "outputs": [],
   "source": [
    "# data extraction\n",
    "# !pip install roboflow\n",
    "\n",
    "from roboflow import Roboflow\n",
    "rf = Roboflow(api_key=\"ZpbOX5xD9yr3IIQFTK5A\")\n",
    "\n",
    "# one project\n",
    "# project = rf.workspace(\"aastmt-y5wwb\").project(\"debi_final\")\n",
    "# version = project.version(7)\n",
    "# dataset = version.download(\"yolov11\")\n",
    "\n",
    "# another project\n",
    "# project = rf.workspace(\"r2-bz2qt\").project(\"r2-72z3j\")\n",
    "# version = project.version(2)\n",
    "# dataset = version.download(\"yolov11\")"
   ]
  },
  {
   "cell_type": "code",
   "execution_count": 41,
   "metadata": {},
   "outputs": [],
   "source": [
    "from glob import glob\n",
    "dataset_name = \"DEBI_FINAL-7\""
   ]
  },
  {
   "cell_type": "code",
   "execution_count": 40,
   "metadata": {},
   "outputs": [],
   "source": [
    "for split in [\"train\", \"test\", \"valid\"]:\n",
    "    dir = f\"./{dataset_name}/{split}/labels/*\"\n",
    "    for label_file in glob(dir):\n",
    "        with open(label_file, 'r') as f:\n",
    "            lines = f.readlines()\n",
    "            for i in range(len(lines)):\n",
    "                lines[i] = '0' + lines[i][1:]\n",
    "                \n",
    "        with open(label_file, 'w') as f:\n",
    "            f.writelines(lines)"
   ]
  },
  {
   "cell_type": "code",
   "execution_count": null,
   "metadata": {},
   "outputs": [],
   "source": []
  }
 ],
 "metadata": {
  "kernelspec": {
   "display_name": "base",
   "language": "python",
   "name": "python3"
  },
  "language_info": {
   "codemirror_mode": {
    "name": "ipython",
    "version": 3
   },
   "file_extension": ".py",
   "mimetype": "text/x-python",
   "name": "python",
   "nbconvert_exporter": "python",
   "pygments_lexer": "ipython3",
   "version": "3.11.4"
  }
 },
 "nbformat": 4,
 "nbformat_minor": 2
}
